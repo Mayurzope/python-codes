{
  "nbformat": 4,
  "nbformat_minor": 0,
  "metadata": {
    "colab": {
      "name": "class.ipynb",
      "provenance": [],
      "collapsed_sections": [],
      "authorship_tag": "ABX9TyPrOjXEn1I3zYLgirvkkld7"
    },
    "kernelspec": {
      "name": "python3",
      "display_name": "Python 3"
    }
  },
  "cells": [
    {
      "cell_type": "code",
      "metadata": {
        "colab": {
          "base_uri": "https://localhost:8080/"
        },
        "id": "PCnyjL0Zz19V",
        "outputId": "fb3dbecd-089c-47b9-c82f-81f068cbc6f9"
      },
      "source": [
        "#assign it some properties/variables\n",
        "class Hyundai:\n",
        "\n",
        "  #create avariable\n",
        "    brand = 'Its a Hyundai Brand'\n",
        "\n",
        "    #create a instance\n",
        "Car1 = Hyundai()\n",
        "print(Car1.brand)"
      ],
      "execution_count": null,
      "outputs": [
        {
          "output_type": "stream",
          "text": [
            "Its a Hyundai Brand\n"
          ],
          "name": "stdout"
        }
      ]
    },
    {
      "cell_type": "code",
      "metadata": {
        "colab": {
          "base_uri": "https://localhost:8080/"
        },
        "id": "w5EPMXYP0I-J",
        "outputId": "e0eb33b8-0395-4e9f-f645-8f5f8ac3a404"
      },
      "source": [
        "class Animals:\n",
        "    no_ofLegs = 4\n",
        "animal1 = Animals()\n",
        "print(animal1.no_ofLegs)\n"
      ],
      "execution_count": null,
      "outputs": [
        {
          "output_type": "stream",
          "text": [
            "4\n"
          ],
          "name": "stdout"
        }
      ]
    },
    {
      "cell_type": "code",
      "metadata": {
        "colab": {
          "base_uri": "https://localhost:8080/",
          "height": 129
        },
        "id": "qMOor--sTmRz",
        "outputId": "bd819771-bb48-41b2-f65d-77f7438e1430"
      },
      "source": [
        "class Datafolkz():\n",
        "      course=\"DCDS\"\n",
        "\n",
        "    Datafolkz=Datafolkz()\n",
        "      print(Datafolkz.course)\n",
        "    "
      ],
      "execution_count": null,
      "outputs": [
        {
          "output_type": "error",
          "ename": "IndentationError",
          "evalue": "ignored",
          "traceback": [
            "\u001b[0;36m  File \u001b[0;32m\"<ipython-input-16-2c4876e0fe5a>\"\u001b[0;36m, line \u001b[0;32m4\u001b[0m\n\u001b[0;31m    Datafolkz=Datafolkz()\u001b[0m\n\u001b[0m                         ^\u001b[0m\n\u001b[0;31mIndentationError\u001b[0m\u001b[0;31m:\u001b[0m unindent does not match any outer indentation level\n"
          ]
        }
      ]
    },
    {
      "cell_type": "code",
      "metadata": {
        "colab": {
          "base_uri": "https://localhost:8080/"
        },
        "id": "aTxotrRyYpM5",
        "outputId": "e33ff59f-7d96-4dbb-a93a-58eba56b4f60"
      },
      "source": [
        "class Hyundai:\n",
        "    #create global variable/class variables\n",
        "    Brand ='Hyundai'\n",
        "    Model = 'Verna'\n",
        "    \n",
        "    # create instance variable by using init construction and self\n",
        "    def __init__(self,color,variant):\n",
        "        self.color = color\n",
        "        self.variant = variant\n",
        "# create some instances of it\n",
        "varna_petrol = Hyundai('Red',\"Petrol\")\n",
        "varna_diesel = Hyundai(\"Red\",\"Diesel\")\n",
        "\n",
        "print('Petrol variant :',varna_petrol.color)\n",
        "print(\"Brand :\",varna_petrol.Brand)\n",
        "print(\"Model :\",varna_petrol.Model)\n",
        "\n",
        "print('Petrol variant :',varna_petrol.color)\n",
        "print('Petrol variant :',varna_petrol.variant)       \n",
        "\n",
        "print('Diesel variant color :',varna_diesel.color)\n",
        "print('Diesel variant :',varna_diesel.variant)\n"
      ],
      "execution_count": null,
      "outputs": [
        {
          "output_type": "stream",
          "text": [
            "Petrol variant : Red\n",
            "Brand : Hyundai\n",
            "Model : Verna\n",
            "Petrol variant : Red\n",
            "Petrol variant : Petrol\n",
            "Diesel variant color : Red\n",
            "Diesel variant : Diesel\n"
          ],
          "name": "stdout"
        }
      ]
    },
    {
      "cell_type": "code",
      "metadata": {
        "colab": {
          "base_uri": "https://localhost:8080/"
        },
        "id": "3lkahMGeY5wl",
        "outputId": "7444faab-e14b-4547-8a8e-a4351ec6a8cf"
      },
      "source": [
        "# create a class of datafolkz \n",
        "#create a class variable called institution and assign datafolkz to it\n",
        "\n",
        "#then create 2 instance variables course and duration\n",
        "\n",
        "#then create a instance of class datafolkz and call a variables through instance and also class\n",
        "\n",
        "class DataFolkz:\n",
        "    institution = \"Datafolkz\"\n",
        "    def __init__(self,course,duration):\n",
        "        self.course = course\n",
        "        self.duration = duration\n",
        "\n",
        "course_details = DataFolkz(\"PCAI\",\"6 Months\")\n",
        "print(\" institution \",course_details.institution)\n",
        "print(\"Course \",course_details.course)\n",
        "print(\"Duration \",course_details.duration)\n",
        "\n",
        "\n"
      ],
      "execution_count": null,
      "outputs": [
        {
          "output_type": "stream",
          "text": [
            " institution  Datafolkz\n",
            "Course  PCAI\n",
            "Duration  6 Months\n"
          ],
          "name": "stdout"
        }
      ]
    },
    {
      "cell_type": "code",
      "metadata": {
        "colab": {
          "base_uri": "https://localhost:8080/"
        },
        "id": "MhFAWGvRdM_4",
        "outputId": "fcf3d707-7dab-4469-f8fb-66395f0a53aa"
      },
      "source": [
        "class Rectangles:\n",
        "    \n",
        "    shape = \"It's a polygon with 4 sides\"\n",
        "    \n",
        "    \n",
        "    def __init__(self,length,width):\n",
        "        self.length = length\n",
        "        self.width = width\n",
        "        \n",
        "# Method to find the area\n",
        "    def area(self):\n",
        "        return self.length*self.width\n",
        "\n",
        "rect1=Rectangles(10,5)\n",
        "rect1.area()\n",
        "\n"
      ],
      "execution_count": null,
      "outputs": [
        {
          "output_type": "execute_result",
          "data": {
            "text/plain": [
              "50"
            ]
          },
          "metadata": {
            "tags": []
          },
          "execution_count": 69
        }
      ]
    },
    {
      "cell_type": "code",
      "metadata": {
        "colab": {
          "base_uri": "https://localhost:8080/"
        },
        "id": "ZY1dtY9_f5uJ",
        "outputId": "9e928299-8f18-4d75-d7e5-00d8072637dd"
      },
      "source": [
        "class Rectangles:\n",
        "    shape = \"Its a Polygon with 4 sides\"\n",
        "    def __init__(self,length,width):\n",
        "        self.length = length\n",
        "        self.width = width\n",
        "    \n",
        "\n",
        "    def perimeter(self):\n",
        "        return 2*(self.length+self.width)\n",
        "    \n",
        "rect = Rectangles(4,7)\n",
        "print(Rectangles.shape)\n",
        "print('Lenth =',rect.length)\n",
        "print('Width =',rect.width)\n",
        "print('perimeter =', rect.perimeter())\n"
      ],
      "execution_count": null,
      "outputs": [
        {
          "output_type": "stream",
          "text": [
            "Its a Polygon with 4 sides\n",
            "Lenth = 4\n",
            "Width = 7\n",
            "perimeter = 22\n"
          ],
          "name": "stdout"
        }
      ]
    },
    {
      "cell_type": "code",
      "metadata": {
        "id": "fOcHABbBhOR9"
      },
      "source": [
        "#Create a class of students \n",
        "\n",
        "#Then define a method to find the average of the marks scored by them in Math, Science and Social \n",
        "\n",
        "#Create some instances and find the average \n",
        "\n",
        "\n",
        "class Students:\n",
        "\n",
        "    def __init__(self,math,science,social):\n",
        "      self.math = math\n",
        "      self.science = science\n",
        "      self.social = social\n",
        "\n",
        "\n",
        "    def average(self):\n",
        "      return (self.math+self.science+self.social)/3\n",
        "      \n",
        "      average2 = Students(50,60,70)\n",
        "      average2.average()\n",
        "\n"
      ],
      "execution_count": null,
      "outputs": []
    },
    {
      "cell_type": "code",
      "metadata": {
        "colab": {
          "base_uri": "https://localhost:8080/"
        },
        "id": "ZMyzhfNOp3XM",
        "outputId": "681fe4c4-8591-4be7-f983-6f9cf35d739b"
      },
      "source": [
        "class circle:\n",
        "    area = \"Area of circle\"\n",
        "    def __init__(self, redius):\n",
        "        self.redius = redius\n",
        "    def area(self):\n",
        "        return 2*(self.redius*22/7)\n",
        "Redius = circle(20)\n",
        "Redius.area()\n"
      ],
      "execution_count": null,
      "outputs": [
        {
          "output_type": "execute_result",
          "data": {
            "text/plain": [
              "125.71428571428571"
            ]
          },
          "metadata": {
            "tags": []
          },
          "execution_count": 92
        }
      ]
    },
    {
      "cell_type": "code",
      "metadata": {
        "colab": {
          "base_uri": "https://localhost:8080/",
          "height": 129
        },
        "id": "wJnFrWptq4sl",
        "outputId": "31ffb6d9-68bc-405c-c44a-14b241fd23b7"
      },
      "source": [
        "# Static methods\n",
        "\n",
        "Class methods use a parameter which is called as \n",
        "\n",
        "\n",
        "class myclass:\n",
        "\n",
        "  def method(self):\n",
        "    return  \"instance method called\"\n",
        "\n",
        "  "
      ],
      "execution_count": null,
      "outputs": [
        {
          "output_type": "error",
          "ename": "SyntaxError",
          "evalue": "ignored",
          "traceback": [
            "\u001b[0;36m  File \u001b[0;32m\"<ipython-input-93-7ca8aa9033fe>\"\u001b[0;36m, line \u001b[0;32m3\u001b[0m\n\u001b[0;31m    Class methods use a parameter which is called as\u001b[0m\n\u001b[0m                ^\u001b[0m\n\u001b[0;31mSyntaxError\u001b[0m\u001b[0;31m:\u001b[0m invalid syntax\n"
          ]
        }
      ]
    },
    {
      "cell_type": "code",
      "metadata": {
        "colab": {
          "base_uri": "https://localhost:8080/",
          "height": 129
        },
        "id": "rX2mhGt7tbEC",
        "outputId": "e5729297-cc9f-403f-f192-57bf0bdfad8b"
      },
      "source": [
        "class student:\n",
        "  #global \n",
        "  name = \"student\"\n",
        "  def __init__(self,a,b)\n",
        "  self.a = a\n",
        "  self.b = b\n",
        "\n",
        "# @statics\n",
        "  def info(cls):\n",
        "    return cls.name\n",
        "\n",
        "  student1 = student(20,30)\n",
        "  print(student1.info())\n",
        "  print(student.info())"
      ],
      "execution_count": null,
      "outputs": [
        {
          "output_type": "error",
          "ename": "SyntaxError",
          "evalue": "ignored",
          "traceback": [
            "\u001b[0;36m  File \u001b[0;32m\"<ipython-input-95-be8ac0d4920a>\"\u001b[0;36m, line \u001b[0;32m4\u001b[0m\n\u001b[0;31m    def __init__(self,a,b)\u001b[0m\n\u001b[0m                          ^\u001b[0m\n\u001b[0;31mSyntaxError\u001b[0m\u001b[0;31m:\u001b[0m invalid syntax\n"
          ]
        }
      ]
    },
    {
      "cell_type": "code",
      "metadata": {
        "colab": {
          "base_uri": "https://localhost:8080/"
        },
        "id": "00AzfyCduUCW",
        "outputId": "e2641964-823e-4cc4-e7b4-4d630bdb8035"
      },
      "source": [
        "\n",
        "#We have a class of DataFolkz\n",
        "\n",
        "#We have a class variable which is Institution \n",
        "\n",
        "\n",
        "#We have two instance variables which are course and duration\n",
        "\n",
        "\n",
        "#1. Create a method using the variable institution and this method should be named as Org and return the name of institution. \n",
        "#We can do this by creating a class method\n",
        "\n",
        "\n",
        "#2. Create a method whose name is course name and it should use the instance variable course and return the course details of student \n",
        "\n",
        "#3. Create a method just to send some welcome message to the students . Name it Welcome and return 'Welcome to DataFolkz' and this can be achieved by Instance method\n",
        "\n",
        "#4. Create an instance of the class DataFolkz and call all these methods through that\n",
        "\n",
        "\n",
        "\n",
        "class DataFolkz:\n",
        "    institution = 'datafolkz'\n",
        "    \n",
        "    def __init__ (self, course, duration):\n",
        "        self.course =course\n",
        "        self.duration = duration\n",
        "    \n",
        "    def course_details(self):\n",
        "        return self.course\n",
        "    \n",
        "    @staticmethod\n",
        "    def welcome():\n",
        "        return 'Welcome to DataFolkz'\n",
        "    \n",
        "    \n",
        "    @classmethod\n",
        "    def Org(cls):\n",
        "        return cls.institution\n",
        "    \n",
        "    \n",
        "    \n",
        "obj = DataFolkz(\"PCAI\", \"6 Months\")\n",
        "print(DataFolkz.Org())\n",
        "print(obj.course_details())\n",
        "print(obj.welcome())\n",
        "\n",
        "\n",
        "\n",
        "\n"
      ],
      "execution_count": null,
      "outputs": [
        {
          "output_type": "stream",
          "text": [
            "datafolkz\n",
            "PCAI\n",
            "Welcome to DataFolkz\n"
          ],
          "name": "stdout"
        }
      ]
    },
    {
      "cell_type": "code",
      "metadata": {
        "colab": {
          "base_uri": "https://localhost:8080/",
          "height": 69
        },
        "id": "A2N_JGFg4Mua",
        "outputId": "fa4d4f83-07e2-4ef4-e9be-32ebdfcb1615"
      },
      "source": [
        "from datetime import date\n",
        "\n",
        "# random Person\n",
        "class Person:\n",
        "    def __init__(self, name, age):\n",
        "        self.name = name\n",
        "        self.age = age\n",
        "\n",
        "    @classmethod\n",
        "    def fromBirthYear(cls, name, birthYear):\n",
        "        return cls(name, date.today().year - birthYear)\n",
        "\n",
        "    def display(self):\n",
        "        print(self.name + \"'s age is: \" + str(self.age))\n",
        "        \n",
        "    @staticmethod   \n",
        "    def Staticmethod():\n",
        "        return \"I am static\"\n",
        "\n",
        "person = Person('Adam', 19)\n",
        "person.display()\n",
        "\n",
        "person1 = Person.fromBirthYear('John',  1985)\n",
        "person1.display()\n",
        "person.Staticmethod()\n"
      ],
      "execution_count": null,
      "outputs": [
        {
          "output_type": "stream",
          "text": [
            "Adam's age is: 19\n",
            "John's age is: 36\n"
          ],
          "name": "stdout"
        },
        {
          "output_type": "execute_result",
          "data": {
            "application/vnd.google.colaboratory.intrinsic+json": {
              "type": "string"
            },
            "text/plain": [
              "'I am static'"
            ]
          },
          "metadata": {
            "tags": []
          },
          "execution_count": 100
        }
      ]
    },
    {
      "cell_type": "code",
      "metadata": {
        "id": "G-dJAq7ppmNy"
      },
      "source": [
        ""
      ],
      "execution_count": null,
      "outputs": []
    }
  ]
}