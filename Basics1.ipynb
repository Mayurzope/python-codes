{
  "nbformat": 4,
  "nbformat_minor": 0,
  "metadata": {
    "colab": {
      "name": "Basics1.ipynb",
      "provenance": [],
      "collapsed_sections": [],
      "authorship_tag": "ABX9TyOOhsU45Z0DAMcTZZGOH5p5"
    },
    "kernelspec": {
      "name": "python3",
      "display_name": "Python 3"
    }
  },
  "cells": [
    {
      "cell_type": "markdown",
      "metadata": {
        "id": "pFPV1rnDQgSj"
      },
      "source": [
        "# **Advanced Certification in AIML**\n",
        "\n",
        "## **A Program by XYZ**\n",
        "\n",
        "Introduction to Python\n",
        "\n",
        "# **Intro to Jupyter Notebook**\n",
        "- SHIFT + ENTER for Executing the CELL using Jupyter Notebook\n",
        "\n",
        "Shortcut in both modes:\n",
        "\n",
        "- CTRL + ENTER run selected cells\n",
        "- Alt + ENTER run the current cell,insert below\n",
        "- Ctrl + S save and checkpoint\n",
        "\n"
      ]
    },
    {
      "cell_type": "code",
      "metadata": {
        "colab": {
          "base_uri": "https://localhost:8080/"
        },
        "id": "8PtLSEWoAVuy",
        "outputId": "77b086d7-f484-48b6-cce9-ee7de74887ae"
      },
      "source": [
        "a=2\n",
        "b=2\n",
        "c=a+b\n",
        "print(c)"
      ],
      "execution_count": null,
      "outputs": [
        {
          "output_type": "stream",
          "text": [
            "4\n"
          ],
          "name": "stdout"
        }
      ]
    },
    {
      "cell_type": "code",
      "metadata": {
        "colab": {
          "base_uri": "https://localhost:8080/"
        },
        "id": "PrX6lYUeHeGa",
        "outputId": "2d9ee8ac-3e6d-4031-99b8-b8873ebfb99b"
      },
      "source": [
        "firstname=\"Mayur\"\n",
        "Lastname=\"Zope\"\n",
        "Name = firstname + Lastname\n",
        "print(Name)"
      ],
      "execution_count": null,
      "outputs": [
        {
          "output_type": "stream",
          "text": [
            "MayurZope\n"
          ],
          "name": "stdout"
        }
      ]
    },
    {
      "cell_type": "code",
      "metadata": {
        "colab": {
          "base_uri": "https://localhost:8080/"
        },
        "id": "8r7V807eNd2K",
        "outputId": "0601797a-4c5c-4555-abe8-994330f3c9dd"
      },
      "source": [
        "a=5\n",
        "b=5\n",
        "print(a,'\\n',b,a+b,'\\n',b)"
      ],
      "execution_count": null,
      "outputs": [
        {
          "output_type": "stream",
          "text": [
            "5 \n",
            " 5 10 \n",
            " 5\n"
          ],
          "name": "stdout"
        }
      ]
    },
    {
      "cell_type": "markdown",
      "metadata": {
        "id": "IZT-4yMsZrfh"
      },
      "source": [
        "# **Scalar Data types/numeric data types**\n",
        "  - ## Integer\n",
        "  - ## Float\n",
        "  - ## Boolean\n",
        "  - ## Complex\n",
        "\n"
      ]
    },
    {
      "cell_type": "code",
      "metadata": {
        "colab": {
          "base_uri": "https://localhost:8080/"
        },
        "id": "XJGuKyJAakXi",
        "outputId": "b4c93097-0e87-4b91-dfb9-597c4af0f090"
      },
      "source": [
        "# Interger types\n",
        "\n",
        "a = 3.4\n",
        "b = 2.8\n",
        "print(type(a))\n",
        "add = a + b\n",
        "sub = a - b\n",
        "mul = a * b\n",
        "div = a / b\n",
        "exp = a**b\n",
        "\n",
        "print(add,sub,mul,div,exp,sep='\\n')"
      ],
      "execution_count": null,
      "outputs": [
        {
          "output_type": "stream",
          "text": [
            "<class 'float'>\n",
            "6.199999999999999\n",
            "0.6000000000000001\n",
            "9.52\n",
            "1.2142857142857144\n",
            "30.770954475832802\n"
          ],
          "name": "stdout"
        }
      ]
    },
    {
      "cell_type": "code",
      "metadata": {
        "colab": {
          "base_uri": "https://localhost:8080/"
        },
        "id": "UADilmMidOzb",
        "outputId": "353d85aa-b122-4beb-c095-d75e32afe804"
      },
      "source": [
        "# Float types\n",
        "\n",
        "a = 3.4\n",
        "b = 2.8\n",
        "print(type(a))\n",
        "add = a + b\n",
        "sub = a - b\n",
        "mul = a * b\n",
        "div = a / b\n",
        "exp = a**b\n",
        "\n",
        "print(add,sub,mul,div,exp,sep='\\n')"
      ],
      "execution_count": null,
      "outputs": [
        {
          "output_type": "stream",
          "text": [
            "<class 'float'>\n",
            "6.199999999999999\n",
            "0.6000000000000001\n",
            "9.52\n",
            "1.2142857142857144\n",
            "30.770954475832802\n"
          ],
          "name": "stdout"
        }
      ]
    },
    {
      "cell_type": "code",
      "metadata": {
        "colab": {
          "base_uri": "https://localhost:8080/"
        },
        "id": "YMhpFpcWdYb5",
        "outputId": "bb2d812c-750e-4644-a4e6-7a43158c55f3"
      },
      "source": [
        "# **Boolean data types**\n",
        "\n",
        "a = 4\n",
        "b = 5\n",
        "c = a < b\n",
        "print(c)\n",
        "type(c)\n",
        "print(a < b,a <= b, a > b, a >= b, a == b, a != b,sep = '\\n')"
      ],
      "execution_count": null,
      "outputs": [
        {
          "output_type": "stream",
          "text": [
            "True\n",
            "True\n",
            "True\n",
            "False\n",
            "False\n",
            "False\n",
            "True\n"
          ],
          "name": "stdout"
        }
      ]
    },
    {
      "cell_type": "code",
      "metadata": {
        "colab": {
          "base_uri": "https://localhost:8080/"
        },
        "id": "Kpu2EOjYeIIF",
        "outputId": "d875d92d-d5a1-4061-c168-6fe6c888f0bc"
      },
      "source": [
        "d= True\n",
        "print(d)\n",
        "type(d)\n",
        "\n",
        "e= False\n",
        "print(e)\n",
        "type(d)"
      ],
      "execution_count": null,
      "outputs": [
        {
          "output_type": "stream",
          "text": [
            "True\n",
            "False\n"
          ],
          "name": "stdout"
        },
        {
          "output_type": "execute_result",
          "data": {
            "text/plain": [
              "bool"
            ]
          },
          "metadata": {
            "tags": []
          },
          "execution_count": 1
        }
      ]
    },
    {
      "cell_type": "code",
      "metadata": {
        "colab": {
          "base_uri": "https://localhost:8080/"
        },
        "id": "cJann6UdDI4F",
        "outputId": "4b0fe1e8-994c-4289-fba5-977a7e461d7d"
      },
      "source": [
        "a = 5\n",
        "b = 6.5\n",
        "# logical operators\n",
        "print(a<b,a>b,a<=b,a>=b,a==b,a!=b,sep='\\n')"
      ],
      "execution_count": null,
      "outputs": [
        {
          "output_type": "stream",
          "text": [
            "True\n",
            "False\n",
            "True\n",
            "False\n",
            "False\n",
            "True\n"
          ],
          "name": "stdout"
        }
      ]
    },
    {
      "cell_type": "code",
      "metadata": {
        "colab": {
          "base_uri": "https://localhost:8080/"
        },
        "id": "g4jyJj_AHQUL",
        "outputId": "38a60ff4-935a-4471-9757-5844973d3227"
      },
      "source": [
        "# Complex numbers\n",
        "\n",
        "z=2+3j\n",
        "print(z)\n",
        "type(z)"
      ],
      "execution_count": null,
      "outputs": [
        {
          "output_type": "stream",
          "text": [
            "(2+3j)\n"
          ],
          "name": "stdout"
        },
        {
          "output_type": "execute_result",
          "data": {
            "text/plain": [
              "complex"
            ]
          },
          "metadata": {
            "tags": []
          },
          "execution_count": 9
        }
      ]
    },
    {
      "cell_type": "code",
      "metadata": {
        "colab": {
          "base_uri": "https://localhost:8080/"
        },
        "id": "Z3O_g_SLHzov",
        "outputId": "a63dc00f-7f20-49d0-afbd-2df34331ae3f"
      },
      "source": [
        "z1=complex(3,4)\n",
        "type(z1)\n",
        "\n",
        "z2 = complex (real=2,imag=3)\n",
        "\n",
        "z3 = complex (imag=3,real=2)\n",
        "\n",
        "# using z1 and z2,apply on the arithmetic operations - add,sub,mul,div ,store it and print\n",
        "\n",
        "add=z1+z2\n",
        "sub=z1-z2\n",
        "mul=z1*z2\n",
        "div=z1/z2\n",
        "print(add,sub,mul,div,sep='\\n')\n"
      ],
      "execution_count": null,
      "outputs": [
        {
          "output_type": "stream",
          "text": [
            "(5+7j)\n",
            "(1+1j)\n",
            "(-6+17j)\n",
            "(1.3846153846153848-0.07692307692307697j)\n"
          ],
          "name": "stdout"
        }
      ]
    },
    {
      "cell_type": "code",
      "metadata": {
        "colab": {
          "base_uri": "https://localhost:8080/"
        },
        "id": "ONefNtE6LvKc",
        "outputId": "9a550fe9-6697-4143-a7b2-c6717c9bc4b0"
      },
      "source": [
        "z1.conjugate()\n",
        "\n",
        "z1.imag"
      ],
      "execution_count": null,
      "outputs": [
        {
          "output_type": "execute_result",
          "data": {
            "text/plain": [
              "4.0"
            ]
          },
          "metadata": {
            "tags": []
          },
          "execution_count": 23
        }
      ]
    },
    {
      "cell_type": "code",
      "metadata": {
        "colab": {
          "base_uri": "https://localhost:8080/",
          "height": 69
        },
        "id": "J2jpS3ThNtQs",
        "outputId": "21aba07e-b5c9-404b-f7ef-26f52a906b29"
      },
      "source": [
        "# String data types in Python\n",
        "\n",
        "first_name = \"Mayur\"\n",
        "last_name = \"Zope\"\n",
        "print(first_name,last_name,sep=' ')\n",
        "print(type(first_name))\n",
        "\n",
        "# are string subscriptable or not\n",
        "first_name[2]\n",
        "\n",
        "# slicing\n",
        "first_name[0:4]\n",
        "\n",
        "\n",
        "\n"
      ],
      "execution_count": null,
      "outputs": [
        {
          "output_type": "stream",
          "text": [
            "Mayur Zope\n",
            "<class 'str'>\n"
          ],
          "name": "stdout"
        },
        {
          "output_type": "execute_result",
          "data": {
            "application/vnd.google.colaboratory.intrinsic+json": {
              "type": "string"
            },
            "text/plain": [
              "'Mayu'"
            ]
          },
          "metadata": {
            "tags": []
          },
          "execution_count": 33
        }
      ]
    },
    {
      "cell_type": "code",
      "metadata": {
        "colab": {
          "base_uri": "https://localhost:8080/"
        },
        "id": "xPxd9aOPRbVW",
        "outputId": "3db73d0a-1a02-4a94-8558-efa34eaa3904"
      },
      "source": [
        "name='mayur'\n",
        "last='ZOPE'\n",
        "print(name.capitalize())\n",
        "\n",
        "print(name.upper())\n",
        "print(last.lower())\n",
        "\n",
        "description = 'My name is mayur'\n",
        "print(type(description))\n",
        "\n",
        "print(description.split())"
      ],
      "execution_count": null,
      "outputs": [
        {
          "output_type": "stream",
          "text": [
            "Mayur\n",
            "MAYUR\n",
            "zope\n",
            "<class 'str'>\n",
            "['My', 'name', 'is', 'mayur']\n"
          ],
          "name": "stdout"
        }
      ]
    },
    {
      "cell_type": "code",
      "metadata": {
        "colab": {
          "base_uri": "https://localhost:8080/"
        },
        "id": "bpvPgHACXpP3",
        "outputId": "a10cab8e-dc34-4868-e1d8-fe63671059b9"
      },
      "source": [
        "des=description.split()\n",
        "print(des)\n",
        "type(des)\n",
        "\n",
        "details = \"statistics\",\"python\",\"sql\",\"tableau\",\"machinelearning\"\n",
        "print(details)\n",
        "type(details)\n",
        "\n",
        "states = \"Maharashtra\",\"UP\",\"MP\",\"West Bengal\",\"Punjab\",\"Delhi\"\n",
        "print(states)\n",
        "type(states)\n",
        "\n",
        "#tuples indexing\n",
        "states[1]\n",
        "\n",
        "#are tuples mutable? no\n",
        "\n",
        "# Give me an example to show that tuples are heterogeneous and can be indexed but are immutable in nature?\n",
        "states1 = \"Maharashtra\",\"UP\",\"MP\",\"West Bengal\",\"Punjab\",\"Delhi\",5.65\n",
        "print(states[6])\n",
        "type(states)"
      ],
      "execution_count": null,
      "outputs": [
        {
          "output_type": "stream",
          "text": [
            "['My', 'name', 'is', 'mayur']\n",
            "('statistics', 'python', 'sql', 'tableau', 'machinelearning')\n",
            "('Maharashtra', 'UP', 'MP', 'West Bengal', 'Punjab', 'Delhi')\n",
            "5.65\n"
          ],
          "name": "stdout"
        },
        {
          "output_type": "execute_result",
          "data": {
            "text/plain": [
              "tuple"
            ]
          },
          "metadata": {
            "tags": []
          },
          "execution_count": 63
        }
      ]
    },
    {
      "cell_type": "code",
      "metadata": {
        "colab": {
          "base_uri": "https://localhost:8080/"
        },
        "id": "_OWUfIXCeJD7",
        "outputId": "24ed7044-e190-443b-e709-f0da51d4af7d"
      },
      "source": [
        "states = \"Maharashtra\",(\"Mumbai\",\"Pune\"),\"Goa\"\n",
        "print(states)"
      ],
      "execution_count": null,
      "outputs": [
        {
          "output_type": "stream",
          "text": [
            "('Maharashtra', ('Mumbai', 'Pune'), 'Goa')\n"
          ],
          "name": "stdout"
        }
      ]
    },
    {
      "cell_type": "code",
      "metadata": {
        "colab": {
          "base_uri": "https://localhost:8080/",
          "height": 222
        },
        "id": "9SNZkoBggC6L",
        "outputId": "27171dd1-4962-45e7-8c7a-84ac64385278"
      },
      "source": [
        "# Createa a string \n",
        "myprofile = \"My name is Mayur and I am pursuing PCDS course in Datafolkz 2 4\"\n",
        "print(myprofile)\n",
        "\n",
        "# split the string and store the results into my profile_split\n",
        "myprofile_split= myprofile.split()\n",
        "print(myprofile_split)\n",
        "print(type(myprofile_split))\n",
        "\n",
        "# Can the tuples be converted to lists\n",
        "states1 = \"Maharashtra\",\"UP\",\"MP\",\"West Bengal\",\"Punjab\",\"Delhi\",5.65\n",
        "print(states1)\n",
        "print(type(states1))\n",
        "states_list = list(states1)\n",
        "print(states_list)\n",
        "print(type(states_list))\n",
        "\n",
        "# can we convert list to tuple\n",
        "\n",
        "states1 = \"Maharashtra\",\"UP\",\"MP\",\"West Bengal\",\"Punjab\",\"Delhi\",5.65\n",
        "print(states1)\n",
        "print(type(states1))\n",
        "states1_tuple=tuple(states1)\n",
        "print(states1_tuple)\n",
        "print(type(states1_tuple))\n",
        "\n",
        "# can the list be indexed\n",
        "states1 = \"Maharashtra\",\"UP\",\"MP\",\"West Bengal\",\"Punjab\",\"Delhi\",5.65\n",
        "len(states1)\n",
        "states1[3]\n",
        "\n",
        "# are the list mutable\n",
        "state2 = \"Maharashtra\",\"UP\",\"MP\",\"West Bengal\",\"Punjab\",\"Delhi\",5.65\n",
        "state2[3]\n"
      ],
      "execution_count": null,
      "outputs": [
        {
          "output_type": "stream",
          "text": [
            "My name is Mayur and I am pursuing PCDS course in Datafolkz 2 4\n",
            "['My', 'name', 'is', 'Mayur', 'and', 'I', 'am', 'pursuing', 'PCDS', 'course', 'in', 'Datafolkz', '2', '4']\n",
            "<class 'list'>\n",
            "('Maharashtra', 'UP', 'MP', 'West Bengal', 'Punjab', 'Delhi', 5.65)\n",
            "<class 'tuple'>\n",
            "['Maharashtra', 'UP', 'MP', 'West Bengal', 'Punjab', 'Delhi', 5.65]\n",
            "<class 'list'>\n",
            "('Maharashtra', 'UP', 'MP', 'West Bengal', 'Punjab', 'Delhi', 5.65)\n",
            "<class 'tuple'>\n",
            "('Maharashtra', 'UP', 'MP', 'West Bengal', 'Punjab', 'Delhi', 5.65)\n",
            "<class 'tuple'>\n"
          ],
          "name": "stdout"
        },
        {
          "output_type": "execute_result",
          "data": {
            "application/vnd.google.colaboratory.intrinsic+json": {
              "type": "string"
            },
            "text/plain": [
              "'West Bengal'"
            ]
          },
          "metadata": {
            "tags": []
          },
          "execution_count": 99
        }
      ]
    },
    {
      "cell_type": "code",
      "metadata": {
        "colab": {
          "base_uri": "https://localhost:8080/",
          "height": 214
        },
        "id": "C6D_GxycmOLZ",
        "outputId": "7c0aff4b-e0e5-45cd-9a76-19c3a0cafa67"
      },
      "source": [
        "# are the list mutable\n",
        "state2 = \"Maharashtra\",\"UP\",\"MP\",\"West Bengal\",\"Punjab\",\"Delhi\",5.65\n",
        "print(type(state2))\n",
        "state2[3] = \"Goa\"\n"
      ],
      "execution_count": null,
      "outputs": [
        {
          "output_type": "stream",
          "text": [
            "<class 'tuple'>\n"
          ],
          "name": "stdout"
        },
        {
          "output_type": "error",
          "ename": "TypeError",
          "evalue": "ignored",
          "traceback": [
            "\u001b[0;31m---------------------------------------------------------------------------\u001b[0m",
            "\u001b[0;31mTypeError\u001b[0m                                 Traceback (most recent call last)",
            "\u001b[0;32m<ipython-input-103-383dcc92391a>\u001b[0m in \u001b[0;36m<module>\u001b[0;34m()\u001b[0m\n\u001b[1;32m      2\u001b[0m \u001b[0mstate2\u001b[0m \u001b[0;34m=\u001b[0m \u001b[0;34m\"Maharashtra\"\u001b[0m\u001b[0;34m,\u001b[0m\u001b[0;34m\"UP\"\u001b[0m\u001b[0;34m,\u001b[0m\u001b[0;34m\"MP\"\u001b[0m\u001b[0;34m,\u001b[0m\u001b[0;34m\"West Bengal\"\u001b[0m\u001b[0;34m,\u001b[0m\u001b[0;34m\"Punjab\"\u001b[0m\u001b[0;34m,\u001b[0m\u001b[0;34m\"Delhi\"\u001b[0m\u001b[0;34m,\u001b[0m\u001b[0;36m5.65\u001b[0m\u001b[0;34m\u001b[0m\u001b[0;34m\u001b[0m\u001b[0m\n\u001b[1;32m      3\u001b[0m \u001b[0mprint\u001b[0m\u001b[0;34m(\u001b[0m\u001b[0mtype\u001b[0m\u001b[0;34m(\u001b[0m\u001b[0mstate2\u001b[0m\u001b[0;34m)\u001b[0m\u001b[0;34m)\u001b[0m\u001b[0;34m\u001b[0m\u001b[0;34m\u001b[0m\u001b[0m\n\u001b[0;32m----> 4\u001b[0;31m \u001b[0mstate2\u001b[0m\u001b[0;34m[\u001b[0m\u001b[0;36m3\u001b[0m\u001b[0;34m]\u001b[0m \u001b[0;34m=\u001b[0m \u001b[0;34m\"Goa\"\u001b[0m\u001b[0;34m\u001b[0m\u001b[0;34m\u001b[0m\u001b[0m\n\u001b[0m",
            "\u001b[0;31mTypeError\u001b[0m: 'tuple' object does not support item assignment"
          ]
        }
      ]
    },
    {
      "cell_type": "code",
      "metadata": {
        "id": "mP5m-HKqj34w"
      },
      "source": [
        ""
      ],
      "execution_count": null,
      "outputs": []
    }
  ]
}