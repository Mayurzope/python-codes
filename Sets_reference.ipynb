{
  "nbformat": 4,
  "nbformat_minor": 0,
  "metadata": {
    "kernelspec": {
      "display_name": "Python 3",
      "language": "python",
      "name": "python3"
    },
    "language_info": {
      "codemirror_mode": {
        "name": "ipython",
        "version": 3
      },
      "file_extension": ".py",
      "mimetype": "text/x-python",
      "name": "python",
      "nbconvert_exporter": "python",
      "pygments_lexer": "ipython3",
      "version": "3.7.6"
    },
    "colab": {
      "name": "Sets reference.ipynb",
      "provenance": [],
      "include_colab_link": true
    }
  },
  "cells": [
    {
      "cell_type": "markdown",
      "metadata": {
        "id": "view-in-github",
        "colab_type": "text"
      },
      "source": [
        "<a href=\"https://colab.research.google.com/github/Mayurzope/python-codes/blob/main/Sets_reference.ipynb\" target=\"_parent\"><img src=\"https://colab.research.google.com/assets/colab-badge.svg\" alt=\"Open In Colab\"/></a>"
      ]
    },
    {
      "cell_type": "markdown",
      "metadata": {
        "id": "d9H5v9wzZB5v"
      },
      "source": [
        "# Sets\n",
        "- are unordered collection of unique elements\n",
        "- by default sorted\n",
        "- iterable\n",
        "- mutable\n",
        "- Normal set operations, i.e., union, intersection, etc.\n",
        "- Checking presence of particular element - optimized\n",
        "- Syntax : variable_name = set([a list of elements])"
      ]
    },
    {
      "cell_type": "markdown",
      "metadata": {
        "id": "WkRsLx1UZB5x"
      },
      "source": [
        "## Creation of Sets"
      ]
    },
    {
      "cell_type": "markdown",
      "metadata": {
        "id": "2lHd1mQyZB5y"
      },
      "source": [
        "##### using curly braces { }"
      ]
    },
    {
      "cell_type": "code",
      "metadata": {
        "id": "EvMMre-tZB5y",
        "outputId": "5073903c-4c10-424e-85c0-35e31149484f"
      },
      "source": [
        "set_ = {11,22,33}\n",
        "print('Set is : ', set_)\n",
        "print('Type: ',type(set_))"
      ],
      "execution_count": null,
      "outputs": [
        {
          "output_type": "stream",
          "text": [
            "Set is :  {33, 11, 22}\n",
            "Type:  <class 'set'>\n"
          ],
          "name": "stdout"
        }
      ]
    },
    {
      "cell_type": "markdown",
      "metadata": {
        "id": "Ki_FiDjFZB5z"
      },
      "source": [
        "##### using list"
      ]
    },
    {
      "cell_type": "code",
      "metadata": {
        "id": "NfbaLwsSZB50",
        "outputId": "1a22725f-0e06-42fe-c9bc-2d1d6371cf7b"
      },
      "source": [
        "_set = set([1,2,3,4])\n",
        "print('Set is : ', _set)\n",
        "print('Type: ',type(_set))"
      ],
      "execution_count": null,
      "outputs": [
        {
          "output_type": "stream",
          "text": [
            "Set is :  {1, 2, 3, 4}\n",
            "Type:  <class 'set'>\n"
          ],
          "name": "stdout"
        }
      ]
    },
    {
      "cell_type": "markdown",
      "metadata": {
        "id": "2LExnoJtZB50"
      },
      "source": [
        "### Lists vs Sets"
      ]
    },
    {
      "cell_type": "code",
      "metadata": {
        "id": "lsjQbJFjZB50",
        "outputId": "a6fcc51c-b482-4024-f252-67468f0b3327"
      },
      "source": [
        "l1 = [1,2,2,4,6,5,6,1,3,8,0,0,9, 'apple', 'Axe', 'ball','apple']\n",
        "print('List is : ', l1, '\\nType : ',type(l1))\n",
        "print('Accessing list element, l1[5]: ', l1[5])\n",
        "\n",
        "#duplicates are not considered in the set unlike lists\n",
        "s1 = set(l1)\n",
        "print('\\nSet is : ', s1, '\\nType : ',type(s1))\n",
        "#print(\"Accessing set element, s1[5]: ,'s1[5])"
      ],
      "execution_count": null,
      "outputs": [
        {
          "output_type": "stream",
          "text": [
            "List is :  [1, 2, 2, 4, 6, 5, 6, 1, 3, 8, 0, 0, 9, 'apple', 'Axe', 'ball', 'apple'] \n",
            "Type :  <class 'list'>\n",
            "Accessing list element, l1[5]:  5\n",
            "\n",
            "Set is :  {0, 1, 2, 3, 4, 5, 6, 8, 9, 'ball', 'Axe', 'apple'} \n",
            "Type :  <class 'set'>\n"
          ],
          "name": "stdout"
        }
      ]
    },
    {
      "cell_type": "markdown",
      "metadata": {
        "id": "JrMCz62zZB51"
      },
      "source": [
        "###  Mutability of sets"
      ]
    },
    {
      "cell_type": "code",
      "metadata": {
        "id": "Ox2eNEZ5ZB51",
        "outputId": "f5b82a1d-72ee-4d9e-d70d-a5ebdc6e8d8c"
      },
      "source": [
        "#sets are mutable\n",
        "\n",
        "s={22,78,0,22,7,34}\n",
        "print('Set : ', s )\n",
        "\n",
        "s.add('a')\n",
        "print('After adding an element : ', s )\n",
        "\n",
        "s.update([4,5,6])\n",
        "print('After updating elements : ', s )"
      ],
      "execution_count": null,
      "outputs": [
        {
          "output_type": "stream",
          "text": [
            "Set :  {0, 34, 7, 78, 22}\n",
            "After adding an element :  {0, 34, 7, 78, 'a', 22}\n",
            "After updating elements :  {0, 34, 4, 5, 6, 7, 78, 'a', 22}\n"
          ],
          "name": "stdout"
        }
      ]
    },
    {
      "cell_type": "code",
      "metadata": {
        "id": "IfLuB8OXZB52",
        "outputId": "8016062c-80ab-4994-e16f-2eea44849388"
      },
      "source": [
        "#removing elements from set\n",
        "s.remove('a')\n",
        "print(\"Set after removing:\",s)"
      ],
      "execution_count": null,
      "outputs": [
        {
          "output_type": "stream",
          "text": [
            "Set after removing: {0, 34, 4, 5, 6, 7, 78, 22}\n"
          ],
          "name": "stdout"
        }
      ]
    },
    {
      "cell_type": "markdown",
      "metadata": {
        "id": "bg238L4JZB52"
      },
      "source": [
        "### Immutable sets - frozenset( )"
      ]
    },
    {
      "cell_type": "code",
      "metadata": {
        "id": "R2HYKI04ZB52",
        "outputId": "da1f7ca6-501f-47ef-f9bc-f585c835b6dd"
      },
      "source": [
        "fs = frozenset([1,2,3,4])\n",
        "fs"
      ],
      "execution_count": null,
      "outputs": [
        {
          "output_type": "execute_result",
          "data": {
            "text/plain": [
              "frozenset({1, 2, 3, 4})"
            ]
          },
          "metadata": {
            "tags": []
          },
          "execution_count": 7
        }
      ]
    },
    {
      "cell_type": "code",
      "metadata": {
        "id": "urjYUvtLZB53",
        "outputId": "2502066d-4d17-4fcd-c6d1-a345abbd0cb7"
      },
      "source": [
        "#this will give error as frozen sets are immutable - they are used rarely\n",
        "fs1 = fs.add('a')"
      ],
      "execution_count": null,
      "outputs": [
        {
          "output_type": "error",
          "ename": "AttributeError",
          "evalue": "'frozenset' object has no attribute 'add'",
          "traceback": [
            "\u001b[1;31m---------------------------------------------------------------------------\u001b[0m",
            "\u001b[1;31mAttributeError\u001b[0m                            Traceback (most recent call last)",
            "\u001b[1;32m<ipython-input-8-4466cb93f577>\u001b[0m in \u001b[0;36m<module>\u001b[1;34m\u001b[0m\n\u001b[1;32m----> 1\u001b[1;33m \u001b[0mfs1\u001b[0m \u001b[1;33m=\u001b[0m \u001b[0mfs\u001b[0m\u001b[1;33m.\u001b[0m\u001b[0madd\u001b[0m\u001b[1;33m(\u001b[0m\u001b[1;34m'a'\u001b[0m\u001b[1;33m)\u001b[0m\u001b[1;33m\u001b[0m\u001b[1;33m\u001b[0m\u001b[0m\n\u001b[0m",
            "\u001b[1;31mAttributeError\u001b[0m: 'frozenset' object has no attribute 'add'"
          ]
        }
      ]
    },
    {
      "cell_type": "markdown",
      "metadata": {
        "id": "_WyFy2dYZB53"
      },
      "source": [
        "### Set Operations"
      ]
    },
    {
      "cell_type": "code",
      "metadata": {
        "id": "R-B8lFQCZB53",
        "outputId": "c472b828-69ff-42da-f51d-7999bd4fdc36"
      },
      "source": [
        "set_A = set([11, 3, 'doll', 52, 36, 'apple'])\n",
        "set_B = set([23, 44, 36, 'doll', 11, 'brain'])\n",
        "print(\"Set A : \", set_A)\n",
        "print(\"Set A : \", set_B)"
      ],
      "execution_count": null,
      "outputs": [
        {
          "output_type": "stream",
          "text": [
            "Set A :  {3, 'doll', 36, 11, 52, 'apple'}\n",
            "Set A :  {'doll', 36, 11, 44, 23, 'brain'}\n"
          ],
          "name": "stdout"
        }
      ]
    },
    {
      "cell_type": "code",
      "metadata": {
        "id": "AkBmz-sLZB54",
        "outputId": "bb07cb00-656a-4c65-d0d3-e4cd770d4cfd"
      },
      "source": [
        "print('Union of sets: ', set_A.union(set_B))\n",
        "print('Intersection of sets: ', set_A.intersection(set_B))\n",
        "print('Symmetric difference of sets: ', set_A.symmetric_difference(set_B))\n",
        "print('Difference of SetA and Set B : ', set_A.difference(set_B))"
      ],
      "execution_count": null,
      "outputs": [
        {
          "output_type": "stream",
          "text": [
            "Union of sets:  {3, 'doll', 36, 11, 44, 52, 23, 'apple', 'brain'}\n",
            "Intersection of sets:  {11, 'doll', 36}\n",
            "Symmetric difference of sets:  {3, 52, 23, 'apple', 44, 'brain'}\n",
            "Difference of SetA and Set B :  {'apple', 3, 52}\n"
          ],
          "name": "stdout"
        }
      ]
    },
    {
      "cell_type": "markdown",
      "metadata": {
        "id": "7FI_mKy0ZB54"
      },
      "source": [
        "### Operators with Sets"
      ]
    },
    {
      "cell_type": "markdown",
      "metadata": {
        "id": "0dRoBB5pZB55"
      },
      "source": [
        "##### Set Operations using Bit-wise opeartors"
      ]
    },
    {
      "cell_type": "code",
      "metadata": {
        "id": "n2_npe7zZB55",
        "outputId": "5c389fff-f4ce-4aba-dc70-1a5ec9fe0561"
      },
      "source": [
        "print('Symmetric difference of sets: ', set_A ^ set_B) \n",
        "print('Intersection of sets: ', set_A & set_B)\n",
        "print('Union of sets: ', set_A | set_B)\n",
        "print('Difference of SetA and Set B : ', set_A - set_B)"
      ],
      "execution_count": null,
      "outputs": [
        {
          "output_type": "stream",
          "text": [
            "Symmetric difference of sets:  {3, 52, 23, 'apple', 44, 'brain'}\n",
            "Intersection of sets:  {11, 'doll', 36}\n",
            "Union of sets:  {3, 'doll', 36, 11, 44, 52, 23, 'apple', 'brain'}\n",
            "Difference of SetA and Set B :  {'apple', 3, 52}\n"
          ],
          "name": "stdout"
        }
      ]
    },
    {
      "cell_type": "markdown",
      "metadata": {
        "id": "mKVmnI3FZB55"
      },
      "source": [
        "##### Testing presence of elements using Membership Operators"
      ]
    },
    {
      "cell_type": "code",
      "metadata": {
        "id": "lLz1CbRyZB55",
        "outputId": "b8e799ae-3c22-40b0-eded-14a374033463"
      },
      "source": [
        "0 in s1"
      ],
      "execution_count": null,
      "outputs": [
        {
          "output_type": "execute_result",
          "data": {
            "text/plain": [
              "True"
            ]
          },
          "metadata": {
            "tags": []
          },
          "execution_count": 12
        }
      ]
    },
    {
      "cell_type": "code",
      "metadata": {
        "id": "7rSdoiUdZB56",
        "outputId": "630045ff-1f07-4a60-a99c-174605a57708"
      },
      "source": [
        "3 not in s1"
      ],
      "execution_count": null,
      "outputs": [
        {
          "output_type": "execute_result",
          "data": {
            "text/plain": [
              "False"
            ]
          },
          "metadata": {
            "tags": []
          },
          "execution_count": 13
        }
      ]
    },
    {
      "cell_type": "markdown",
      "metadata": {
        "id": "3Ody-LqHZB56"
      },
      "source": [
        "#### isuperset()"
      ]
    },
    {
      "cell_type": "code",
      "metadata": {
        "id": "GHWAb_URZB57",
        "outputId": "52869e76-9141-4413-f1ea-b3e12db161b7"
      },
      "source": [
        "print('Set 1 is : ',s1)\n",
        "s2 = {'b',1,'a',37}\n",
        "s3 = {'b', 1, '37'}\n",
        "print('Set 2 is : ',s2)\n",
        "print('Set 3 is : ',s3)\n",
        "print('s2 is subset of s1? : ', s1.issuperset(s2))\n",
        "print('s3 is subset of s1? : ', s1.issuperset(s3))"
      ],
      "execution_count": null,
      "outputs": [
        {
          "output_type": "stream",
          "text": [
            "Set 1 is :  {1, 2.0, 4, 37, 8, 'fruit', 76, 'a', 'b', 'parrot6'}\n",
            "Set 2 is :  {1, 37, 'a', 'b'}\n",
            "Set 3 is :  {1, '37', 'b'}\n",
            "s2 is subset of s1? :  True\n",
            "s3 is subset of s1? :  False\n"
          ],
          "name": "stdout"
        }
      ]
    },
    {
      "cell_type": "code",
      "metadata": {
        "id": "GpnWSyvmZB57",
        "outputId": "f9dcf702-b758-42a3-9040-5f3f8e52fc31"
      },
      "source": [
        "#it clears all the elemets of set and gives empty set\n",
        "s2.clear()\n",
        "s2"
      ],
      "execution_count": null,
      "outputs": [
        {
          "output_type": "execute_result",
          "data": {
            "text/plain": [
              "set()"
            ]
          },
          "metadata": {
            "tags": []
          },
          "execution_count": 22
        }
      ]
    },
    {
      "cell_type": "code",
      "metadata": {
        "id": "eppPR8XXZB57",
        "outputId": "7d60c05e-61ae-4f94-f5d4-11e9fb06c0c5"
      },
      "source": [
        "#this method will update the elements in the set\n",
        "s2.update('Data')\n",
        "s2"
      ],
      "execution_count": null,
      "outputs": [
        {
          "output_type": "execute_result",
          "data": {
            "text/plain": [
              "{'D', 'a', 't'}"
            ]
          },
          "metadata": {
            "tags": []
          },
          "execution_count": 23
        }
      ]
    },
    {
      "cell_type": "code",
      "metadata": {
        "id": "AvG_xVpZZB58"
      },
      "source": [
        ""
      ],
      "execution_count": null,
      "outputs": []
    }
  ]
}