{
  "nbformat": 4,
  "nbformat_minor": 0,
  "metadata": {
    "kernelspec": {
      "display_name": "Python 3",
      "language": "python",
      "name": "python3"
    },
    "language_info": {
      "codemirror_mode": {
        "name": "ipython",
        "version": 3
      },
      "file_extension": ".py",
      "mimetype": "text/x-python",
      "name": "python",
      "nbconvert_exporter": "python",
      "pygments_lexer": "ipython3",
      "version": "3.8.3"
    },
    "colab": {
      "name": "Dictionaries Reference.ipynb",
      "provenance": [],
      "include_colab_link": true
    }
  },
  "cells": [
    {
      "cell_type": "markdown",
      "metadata": {
        "id": "view-in-github",
        "colab_type": "text"
      },
      "source": [
        "<a href=\"https://colab.research.google.com/github/Mayurzope/python-codes/blob/main/Dictionaries_Reference.ipynb\" target=\"_parent\"><img src=\"https://colab.research.google.com/assets/colab-badge.svg\" alt=\"Open In Colab\"/></a>"
      ]
    },
    {
      "cell_type": "markdown",
      "metadata": {
        "id": "2rtRxnTbYlzx"
      },
      "source": [
        "# Dictionaries\n",
        "- stores the data in the form of a 'key : value' pair\n",
        "- multiple and unique keys\n",
        "- value can be of any data type"
      ]
    },
    {
      "cell_type": "markdown",
      "metadata": {
        "id": "pqK032SQYlzz"
      },
      "source": [
        "## Creating Dictionaries"
      ]
    },
    {
      "cell_type": "markdown",
      "metadata": {
        "id": "U3IY5hEvYlz0"
      },
      "source": [
        "##### using {}"
      ]
    },
    {
      "cell_type": "code",
      "metadata": {
        "id": "lvowGl0wYlz0",
        "outputId": "b5cf95a2-38a4-4182-9e57-437ab0777534"
      },
      "source": [
        "dictionary1 = {} # empty dictionary\n",
        "print(\"Dictionary 1 : \", dictionary1 )\n",
        "print('type of dictionary1: ', type(dictionary1))"
      ],
      "execution_count": null,
      "outputs": [
        {
          "output_type": "stream",
          "text": [
            "Dictionary 1 :  {}\n",
            "type of dictionary1:  <class 'dict'>\n"
          ],
          "name": "stdout"
        }
      ]
    },
    {
      "cell_type": "code",
      "metadata": {
        "id": "lxEcbLaCYlz2",
        "outputId": "9fce55bc-9602-46ea-f1c3-2932fdb51c2e"
      },
      "source": [
        "dictionary2 = {1: \"me\", 2: \"my\", 3: \"mine\"}\n",
        "print(\"Dictionary 2 : \", dictionary2 )\n",
        "print('type of dictionary2: ', type(dictionary2))"
      ],
      "execution_count": null,
      "outputs": [
        {
          "output_type": "stream",
          "text": [
            "Dictionary 2 :  {1: 'me', 2: 'my', 3: 'mine'}\n",
            "type of dictionary2:  <class 'dict'>\n"
          ],
          "name": "stdout"
        }
      ]
    },
    {
      "cell_type": "markdown",
      "metadata": {
        "id": "2VnQg4ZQYlz2"
      },
      "source": [
        "#### using dict()"
      ]
    },
    {
      "cell_type": "code",
      "metadata": {
        "id": "7Tn4zYolYlz3",
        "outputId": "6d7d0241-c28f-4fd1-c34d-e06adeeea77a"
      },
      "source": [
        "dictionary3 = dict({\"I\" : \"you\", \"my\" : \"your\", \"we\" : [\"our\",'ourselves'] })\n",
        "print(\"Dictionary 3 : \", dictionary3 )\n",
        "print('type(dictionary3): ', type(dictionary3))"
      ],
      "execution_count": null,
      "outputs": [
        {
          "output_type": "stream",
          "text": [
            "Dictionary 3 :  {'I': 'you', 'my': 'your', 'we': ['our', 'ourselves']}\n",
            "type(dictionary3):  <class 'dict'>\n"
          ],
          "name": "stdout"
        }
      ]
    },
    {
      "cell_type": "code",
      "metadata": {
        "id": "4yK_WedHYlz4",
        "outputId": "9438ba00-5a5b-40f3-ea51-11cdd3c93fd2"
      },
      "source": [
        "dictionary4 = dict([(1, \"me\"), (2, \"my\"), (3 ,(\"mine\", 'myself'))])\n",
        "print(\"Dictionary 4 : \", dictionary4 )\n",
        "print('type(dictionary4): ', type(dictionary4))"
      ],
      "execution_count": null,
      "outputs": [
        {
          "output_type": "stream",
          "text": [
            "Dictionary 4 :  {1: 'me', 2: 'my', 3: ('mine', 'myself')}\n",
            "type(dictionary4):  <class 'dict'>\n"
          ],
          "name": "stdout"
        }
      ]
    },
    {
      "cell_type": "markdown",
      "metadata": {
        "id": "3AFTam4dYlz4"
      },
      "source": [
        "## Nested dictionaries"
      ]
    },
    {
      "cell_type": "code",
      "metadata": {
        "id": "ON7i2TxsYlz4",
        "outputId": "b0a2ab7c-bf1c-497c-a476-fe1ae3747396"
      },
      "source": [
        "dictionary5 = {\"name\" : {\"First\" : \"Jon\" , \"Last\" : \"Snow\"} , \"House\" : \"Winterfell\"}\n",
        "print(\"Dictionary 5 : \", dictionary5 )\n",
        "print('type(dictionary5): ', type(dictionary5))"
      ],
      "execution_count": null,
      "outputs": [
        {
          "output_type": "stream",
          "text": [
            "Dictionary 5 :  {'name': {'First': 'Jon', 'Last': 'Snow'}, 'House': 'Winterfell'}\n",
            "type(dictionary5):  <class 'dict'>\n"
          ],
          "name": "stdout"
        }
      ]
    },
    {
      "cell_type": "markdown",
      "metadata": {
        "id": "EL8okEA6Ylz5"
      },
      "source": [
        "## Accessing Elements of the dictionary\n",
        "- Syntax\n",
        "\n",
        "      dictionary_name[outer_key][inner_key_1]...[inner_key_n]"
      ]
    },
    {
      "cell_type": "code",
      "metadata": {
        "id": "peEDSRyvYlz5",
        "outputId": "2d02c8f2-b0fd-4600-eaa0-9c63443796fe"
      },
      "source": [
        "#accessing elements using key\n",
        "\n",
        "print(dictionary2)\n",
        "print(\"dictionary2[1]: \", dictionary2[1])\n",
        "\n",
        "print('\\n',dictionary3)\n",
        "print(\"dictionary3['we']: \", dictionary3['we'])"
      ],
      "execution_count": null,
      "outputs": [
        {
          "output_type": "stream",
          "text": [
            "{1: 'me', 2: 'my', 3: 'mine'}\n",
            "dictionary2[1]:  me\n",
            "\n",
            " {'I': 'you', 'my': 'your', 'we': ['our', 'ourselves']}\n",
            "dictionary3['we']:  ['our', 'ourselves']\n"
          ],
          "name": "stdout"
        }
      ]
    },
    {
      "cell_type": "code",
      "metadata": {
        "id": "OtRlsNMuYlz6",
        "outputId": "65a4d987-5dde-4ffc-d68d-dc0f36d6e0ef"
      },
      "source": [
        "print(dictionary5)\n",
        "\n",
        "print(\"\\ndictionary5['name']: \", dictionary5['name'])\n",
        "print(\"dictionary5['name']['First']: \", dictionary5['name']['First'])"
      ],
      "execution_count": null,
      "outputs": [
        {
          "output_type": "stream",
          "text": [
            "{'name': {'First': 'Jon', 'Last': 'Snow'}, 'House': 'Winterfell'}\n",
            "\n",
            "dictionary5['name']:  {'First': 'Jon', 'Last': 'Snow'}\n",
            "dictionary5['name']['First']:  Jon\n"
          ],
          "name": "stdout"
        }
      ]
    },
    {
      "cell_type": "markdown",
      "metadata": {
        "id": "dmlzJhV3Ylz6"
      },
      "source": [
        "##### using get() method\n",
        "- Syntax\n",
        "\n",
        "       dictionary_name.get(key)"
      ]
    },
    {
      "cell_type": "code",
      "metadata": {
        "id": "NJowjDC4Ylz6",
        "outputId": "78e6a094-0bcc-4585-f0f0-dd8ee0cca599"
      },
      "source": [
        "print(dictionary5.get('name'))\n",
        "print(dictionary5.get('House'))"
      ],
      "execution_count": null,
      "outputs": [
        {
          "output_type": "stream",
          "text": [
            "{'First': 'Jon', 'Last': 'Snow'}\n",
            "Winterfell\n"
          ],
          "name": "stdout"
        }
      ]
    },
    {
      "cell_type": "markdown",
      "metadata": {
        "id": "-H9jnE-oYlz7"
      },
      "source": [
        "## Adding Elements to the dictionary\n",
        "- Syntax\n",
        "\n",
        "      dictionary_name[key] = value"
      ]
    },
    {
      "cell_type": "code",
      "metadata": {
        "id": "7SFU8WKGYlz7",
        "outputId": "f2e82f0e-ce09-4fdd-d728-a3ab5dc8a2a2"
      },
      "source": [
        "print('dictionary2 : ',dictionary2)\n",
        "\n",
        "#adding a key value pair\n",
        "dictionary2[4] = 'myself'\n",
        "print('dictionary2 after adding elements : \\n',dictionary2)"
      ],
      "execution_count": null,
      "outputs": [
        {
          "output_type": "stream",
          "text": [
            "dictionary2 :  {1: 'me', 2: 'my', 3: 'mine'}\n",
            "dictionary2 after adding elements : \n",
            " {1: 'me', 2: 'my', 3: 'mine', 4: 'myself'}\n"
          ],
          "name": "stdout"
        }
      ]
    },
    {
      "cell_type": "code",
      "metadata": {
        "id": "85MCxImWYlz7",
        "outputId": "54fd1db6-e970-4f84-e231-32b644419577"
      },
      "source": [
        "dictionary2[5] = (\"me\" , \"my\" , \"mine\", 'myself') \n",
        "print('dictionary2 after adding elements: \\n',dictionary2)"
      ],
      "execution_count": null,
      "outputs": [
        {
          "output_type": "stream",
          "text": [
            "dictionary2 after adding elements: \n",
            " {1: 'me', 2: 'my', 3: 'mine', 4: 'myself', 5: ('me', 'my', 'mine', 'myself')}\n"
          ],
          "name": "stdout"
        }
      ]
    },
    {
      "cell_type": "markdown",
      "metadata": {
        "id": "f03CyidGYlz8"
      },
      "source": [
        "## Updating Elements\n",
        "- Syntax\n",
        " \n",
        "      dictionary_name[existing_key] = value_to_be_updated"
      ]
    },
    {
      "cell_type": "code",
      "metadata": {
        "id": "ujhmDx-LYlz8",
        "outputId": "b7ad3c50-ef5f-49b9-f53d-14ca207e3ca1"
      },
      "source": [
        "#Updating Elements\n",
        "print('dictionary5 : ',dictionary5)\n",
        "\n",
        "#updating the elements of House key\n",
        "dictionary5[\"House\"] = {\"Name\" : \"Winterfell\" , \"Owner\" : \"Ned Stark\"} \n",
        "print('dictionary5 after updation: ',dictionary5)"
      ],
      "execution_count": null,
      "outputs": [
        {
          "output_type": "stream",
          "text": [
            "dictionary5 :  {'name': {'First': 'Jon', 'Last': 'Snow'}, 'House': 'Winterfell'}\n",
            "dictionary5 after updation:  {'name': {'First': 'Jon', 'Last': 'Snow'}, 'House': {'Name': 'Winterfell', 'Owner': 'Ned Stark'}}\n"
          ],
          "name": "stdout"
        }
      ]
    },
    {
      "cell_type": "code",
      "metadata": {
        "id": "hM9JmJoSYlz9",
        "outputId": "6724baa8-4f18-4bbc-be11-29c7e2a1da40"
      },
      "source": [
        "#updating the value of owner in house key\n",
        "dictionary5['House']['Owner'] = ('Ned Stark' , 'Catelyn Stark')\n",
        "print('dictionary5 after further updation: \\n',dictionary5)"
      ],
      "execution_count": null,
      "outputs": [
        {
          "output_type": "stream",
          "text": [
            "dictionary5 after further updation: \n",
            " {'name': {'First': 'Jon', 'Last': 'Snow'}, 'House': {'Name': 'Winterfell', 'Owner': ('Ned Stark', 'Catelyn Stark')}}\n"
          ],
          "name": "stdout"
        }
      ]
    },
    {
      "cell_type": "markdown",
      "metadata": {
        "id": "6fKtXxWLYlz9"
      },
      "source": [
        "## Deleting Elements"
      ]
    },
    {
      "cell_type": "code",
      "metadata": {
        "id": "3wanLZtgYlz9",
        "outputId": "59779abc-e3a2-403d-bc1a-992e69755fc6"
      },
      "source": [
        "dictionary5"
      ],
      "execution_count": null,
      "outputs": [
        {
          "output_type": "execute_result",
          "data": {
            "text/plain": [
              "{'name': {'First': 'Jon', 'Last': 'Snow'},\n",
              " 'House': {'Name': 'Winterfell', 'Owner': ('Ned Stark', 'Catelyn Stark')}}"
            ]
          },
          "metadata": {
            "tags": []
          },
          "execution_count": 26
        }
      ]
    },
    {
      "cell_type": "code",
      "metadata": {
        "id": "MMgbOzEQYlz-",
        "outputId": "4c75195b-88cb-497d-af43-b9786ab88c7c"
      },
      "source": [
        "# Deleting the key value pair in nested dictionary\n",
        "del dictionary5['name']['First']\n",
        "dictionary5"
      ],
      "execution_count": null,
      "outputs": [
        {
          "output_type": "execute_result",
          "data": {
            "text/plain": [
              "{'name': {'Last': 'Snow'},\n",
              " 'House': {'Name': 'Winterfell', 'Owner': ('Ned Stark', 'Catelyn Stark')}}"
            ]
          },
          "metadata": {
            "tags": []
          },
          "execution_count": 27
        }
      ]
    },
    {
      "cell_type": "code",
      "metadata": {
        "id": "9ATtvUjcYlz-",
        "outputId": "ac6ee52d-7671-41cf-d418-dd7a9d6bfe59"
      },
      "source": [
        "print(dictionary2)\n",
        "print(dictionary2.pop(1))"
      ],
      "execution_count": null,
      "outputs": [
        {
          "output_type": "stream",
          "text": [
            "{1: 'me', 2: 'my', 3: 'mine', 4: 'myself', 5: ('me', 'my', 'mine', 'myself')}\n",
            "me\n"
          ],
          "name": "stdout"
        }
      ]
    },
    {
      "cell_type": "code",
      "metadata": {
        "id": "eOsRlacmYlz-",
        "outputId": "843fcc2c-ed5b-47db-c947-b46ac6143f0e"
      },
      "source": [
        "#Deleting the last element of the dictionary\n",
        "dictionary2.popitem()\n",
        "print('Dictionary after deleting element:',dictionary2)"
      ],
      "execution_count": null,
      "outputs": [
        {
          "output_type": "stream",
          "text": [
            "Dictionary after deleting element: {2: 'my', 3: 'mine', 4: 'myself'}\n"
          ],
          "name": "stdout"
        }
      ]
    },
    {
      "cell_type": "markdown",
      "metadata": {
        "id": "fGdZc6u7Ylz_"
      },
      "source": [
        "## Using in-built functions"
      ]
    },
    {
      "cell_type": "code",
      "metadata": {
        "id": "y-OasFMWYlz_",
        "outputId": "be68c7bb-143f-46c2-f259-40385605d144"
      },
      "source": [
        "print(dictionary2)\n",
        "\n",
        "#it gives all the values in dictionary\n",
        "dictionary2.values()"
      ],
      "execution_count": null,
      "outputs": [
        {
          "output_type": "stream",
          "text": [
            "{2: 'my', 3: 'mine', 4: 'myself'}\n"
          ],
          "name": "stdout"
        },
        {
          "output_type": "execute_result",
          "data": {
            "text/plain": [
              "dict_values(['my', 'mine', 'myself'])"
            ]
          },
          "metadata": {
            "tags": []
          },
          "execution_count": 34
        }
      ]
    },
    {
      "cell_type": "code",
      "metadata": {
        "id": "o74eMZIyYlz_",
        "outputId": "feac292e-e0cb-4d8f-e591-a56e211b32cf"
      },
      "source": [
        "#it returns a list containing a tuple for each key value pair\n",
        "dictionary2.items()"
      ],
      "execution_count": null,
      "outputs": [
        {
          "output_type": "execute_result",
          "data": {
            "text/plain": [
              "dict_items([(2, 'my'), (3, 'mine'), (4, 'myself')])"
            ]
          },
          "metadata": {
            "tags": []
          },
          "execution_count": 39
        }
      ]
    },
    {
      "cell_type": "code",
      "metadata": {
        "id": "bPhAFro1Yl0A",
        "outputId": "338abbe7-6dc0-4b8b-c950-fdf96fe7c0aa"
      },
      "source": [
        "keys = {'a','b','c','d'}\n",
        "value = [1,2,3]\n",
        "\n",
        "#this will take keys as keys and value as values and returns as dictionary\n",
        "print(dict.fromkeys(keys,value))\n",
        "\n",
        "#this will take value as keys and keys as values and returns a dictionary\n",
        "print(dict.fromkeys(value, keys))"
      ],
      "execution_count": null,
      "outputs": [
        {
          "output_type": "stream",
          "text": [
            "{'b': [1, 2, 3], 'a': [1, 2, 3], 'd': [1, 2, 3], 'c': [1, 2, 3]}\n",
            "{1: {'b', 'a', 'd', 'c'}, 2: {'b', 'a', 'd', 'c'}, 3: {'b', 'a', 'd', 'c'}}\n"
          ],
          "name": "stdout"
        }
      ]
    },
    {
      "cell_type": "code",
      "metadata": {
        "id": "huxYimMnYl0A",
        "outputId": "12d25765-5343-43c6-e745-0dc86401ac27"
      },
      "source": [
        "#it creates a copy of dictionary\n",
        "dict_copy=dictionary2.copy()\n",
        "print(dictionary2)\n",
        "print(dict_copy)"
      ],
      "execution_count": null,
      "outputs": [
        {
          "output_type": "stream",
          "text": [
            "{2: 'my', 3: 'mine', 4: 'myself'}\n",
            "{2: 'my', 3: 'mine', 4: 'myself'}\n"
          ],
          "name": "stdout"
        }
      ]
    },
    {
      "cell_type": "code",
      "metadata": {
        "id": "PSwiPmnyYl0A",
        "outputId": "50d983a0-6515-40d4-9810-b796305d80e0"
      },
      "source": [
        "#it clears the elements of the dictionary and returns empty dictionary\n",
        "dict_copy.clear()\n",
        "dict_copy"
      ],
      "execution_count": null,
      "outputs": [
        {
          "output_type": "execute_result",
          "data": {
            "text/plain": [
              "{}"
            ]
          },
          "metadata": {
            "tags": []
          },
          "execution_count": 42
        }
      ]
    },
    {
      "cell_type": "code",
      "metadata": {
        "id": "RhRuLy-YYl0B"
      },
      "source": [
        ""
      ],
      "execution_count": null,
      "outputs": []
    }
  ]
}